{
 "cells": [
  {
   "cell_type": "code",
   "execution_count": 1,
   "id": "narrative-fusion",
   "metadata": {},
   "outputs": [],
   "source": [
    "# Wczytanie bibliotek\n",
    "\n",
    "import tensorflow as tf\n",
    "physical_devices = tf.config.list_physical_devices('GPU') \n",
    "tf.config.experimental.set_memory_growth(physical_devices[0], True)\n",
    "from datetime import datetime\n",
    "from keras.callbacks import TensorBoard\n",
    "from sklearn.metrics import classification_report\n",
    "\n",
    "import os\n",
    "import pandas as pd\n",
    "import keras\n",
    "from sklearn.model_selection import train_test_split\n",
    "from sklearn import tree\n",
    "from tensorflow.keras import layers\n",
    "from tensorflow.keras.layers.experimental import preprocessing\n",
    "from tensorflow.keras.optimizers import *\n",
    "from tensorflow.keras.layers import Input, Dense, Activation,Dropout\n",
    "from tensorflow.keras.models import Model\n",
    "from sklearn.preprocessing import OneHotEncoder, StandardScaler\n",
    "import warnings\n",
    "import numpy as np\n",
    "from keras.models import Sequential\n",
    "from keras.layers import Dense\n",
    "\n",
    "import sklearn as sk\n",
    "from sklearn.linear_model import LogisticRegression\n",
    "from sklearn import svm\n",
    "from sklearn.ensemble import RandomForestClassifier\n",
    "from sklearn.neural_network import MLPClassifier\n",
    "import joblib"
   ]
  },
  {
   "cell_type": "code",
   "execution_count": 2,
   "id": "friendly-white",
   "metadata": {},
   "outputs": [],
   "source": [
    "### Wczytanie bazy danych\n",
    "\n",
    "train_dataset_fp  = pd.read_csv('C:/wikiart/prediction_set_genre.csv')\n",
    "train_dataset_fp = train_dataset_fp.drop(['Unnamed: 0'], axis=1)"
   ]
  },
  {
   "cell_type": "code",
   "execution_count": 3,
   "id": "driving-integral",
   "metadata": {},
   "outputs": [
    {
     "name": "stdout",
     "output_type": "stream",
     "text": [
      "Features: Index(['Ekspresjonizm Abstrakcyjny', 'Taszyzm', 'Kubizm Analityczny',\n",
      "       'Art Noveau', 'Barok', 'Malarstwo Barwnych Płaszczyzn',\n",
      "       'Realizm Współczesny', 'Kubizm', 'Wczesny Renesans', 'Ekspresjonizm',\n",
      "       'Fowizm', 'Wysoki Renesans', 'Impresjonizm', 'Późny Renesans',\n",
      "       'Minimalizm', 'Prymitywizm', 'Nowy Realizm', 'Północny Renesans',\n",
      "       'Puentylizm', 'Pop Art', 'Postimpresjonizm', 'Realizm', 'Rokoko',\n",
      "       'Romantyzm', 'Symbolizm', 'Kubizm Syntetyczny', 'Ukiyo-e', 'Abstrakcja',\n",
      "       'Pejzaż Miejski', 'Malarstwo Rodzajowe', 'Ilustracja', 'Krajobraz',\n",
      "       'Akt', 'Portret', 'Malarstwo Religijne', 'Szkic', 'Martwa Natura',\n",
      "       'albrecht-durer', 'alfred-sisley', 'amedeo-modigliani',\n",
      "       'boris-kustodiev', 'camille-corot', 'camille-pissarro', 'childe-hassam',\n",
      "       'claude-monet', 'david-burliuk', 'edgar-degas', 'egon-schiele',\n",
      "       'ernst-ludwig-kirchner', 'eugene-boudin', 'ferdinand-hodler',\n",
      "       'fernand-leger', 'francisco-goya', 'georges-braque', 'gustave-courbet',\n",
      "       'gustave-dore', 'gustave-loiseau', 'henri-de-toulouse-lautrec',\n",
      "       'henri-fantin-latour', 'henri-matisse', 'ilya-repin', 'isaac-levitan',\n",
      "       'ivan-aivazovsky', 'ivan-shishkin', 'james-tissot',\n",
      "       'john-singer-sargent', 'konstantin-korovin', 'konstantin-makovsky',\n",
      "       'konstantin-somov', 'lucian-freud', 'marc-chagall', 'martiros-saryan',\n",
      "       'mary-cassatt', 'maurice-prendergast', 'nicholas-roerich',\n",
      "       'odilon-redon', 'pablo-picasso', 'paul-cezanne', 'paul-gauguin',\n",
      "       'peter-paul-rubens', 'pierre-auguste-renoir', 'pyotr-konchalovsky',\n",
      "       'raphael-kirchner', 'rembrandt', 'salvador-dali', 'sam-francis',\n",
      "       'thomas-eakins', 'titian', 'utagawa-kuniyoshi', 'vasily-surikov',\n",
      "       'vincent-van-gogh', 'william-merritt-chase', 'zinaida-serebriakova',\n",
      "       'XV', 'XVI', 'XVII', 'XVIII', 'XIX', 'XX'],\n",
      "      dtype='object')\n",
      "Label: Genre\n"
     ]
    }
   ],
   "source": [
    "# Zakodowanie i sprawdzenie klas i kategorii\n",
    "\n",
    "column_names = train_dataset_fp.columns\n",
    "\n",
    "feature_names = column_names[:-1]\n",
    "label_name = column_names[-1]\n",
    "\n",
    "print(\"Features: {}\".format(feature_names))\n",
    "print(\"Label: {}\".format(label_name))\n",
    "\n",
    "names = train_dataset_fp[label_name]"
   ]
  },
  {
   "cell_type": "code",
   "execution_count": 4,
   "id": "convenient-audit",
   "metadata": {},
   "outputs": [],
   "source": [
    "# Liczebność klas\n",
    "\n",
    "classes = ['Abstrakcja', 'Pejzaż Miejski', 'Malarstwo Rodzajowe', 'Ilustracja', 'Krajobraz', 'Akt', 'Portret', 'Malarstwo Religijne', 'Szkic', 'Martwa Natura']\n",
    "dataset_count = train_dataset_fp.groupby(['Genre']).size().reset_index(name='count')"
   ]
  },
  {
   "cell_type": "code",
   "execution_count": 5,
   "id": "silent-telling",
   "metadata": {},
   "outputs": [],
   "source": [
    "# Zakodowanie klas docelowych w postać liczbową\n",
    "\n",
    "train_dataset_fp['Genre'] = pd.Categorical(train_dataset_fp['Genre'])\n",
    "train_dataset_fp['Genre'] = train_dataset_fp.Genre.cat.codes"
   ]
  },
  {
   "cell_type": "code",
   "execution_count": 6,
   "id": "matched-entry",
   "metadata": {},
   "outputs": [],
   "source": [
    "# Dodanie ścieżek\n",
    "\n",
    "df_mini = pd.read_csv('C:/MAG/df2/df_mini.csv')\n",
    "train_dataset_fp['file'] = df_mini['file']"
   ]
  },
  {
   "cell_type": "code",
   "execution_count": 7,
   "id": "oriental-depression",
   "metadata": {},
   "outputs": [],
   "source": [
    "# Określenie które obrazy są w zbiorze treningowym\n",
    "\n",
    "train_choice = pd.read_csv('C:/MAG/df2/train_genre_togo.csv')\n",
    "train_set =  train_dataset_fp[train_dataset_fp['file'].isin(train_choice['file'])]\n",
    "train_set = train_set.drop(['file'], axis=1)"
   ]
  },
  {
   "cell_type": "code",
   "execution_count": 8,
   "id": "concrete-resort",
   "metadata": {},
   "outputs": [
    {
     "data": {
      "text/html": [
       "<div>\n",
       "<style scoped>\n",
       "    .dataframe tbody tr th:only-of-type {\n",
       "        vertical-align: middle;\n",
       "    }\n",
       "\n",
       "    .dataframe tbody tr th {\n",
       "        vertical-align: top;\n",
       "    }\n",
       "\n",
       "    .dataframe thead th {\n",
       "        text-align: right;\n",
       "    }\n",
       "</style>\n",
       "<table border=\"1\" class=\"dataframe\">\n",
       "  <thead>\n",
       "    <tr style=\"text-align: right;\">\n",
       "      <th></th>\n",
       "      <th>Genre_name_x</th>\n",
       "      <th>count</th>\n",
       "    </tr>\n",
       "  </thead>\n",
       "  <tbody>\n",
       "    <tr>\n",
       "      <th>0</th>\n",
       "      <td>Abstrakcja</td>\n",
       "      <td>193</td>\n",
       "    </tr>\n",
       "    <tr>\n",
       "      <th>1</th>\n",
       "      <td>Akt</td>\n",
       "      <td>319</td>\n",
       "    </tr>\n",
       "    <tr>\n",
       "      <th>2</th>\n",
       "      <td>Ilustracja</td>\n",
       "      <td>91</td>\n",
       "    </tr>\n",
       "    <tr>\n",
       "      <th>3</th>\n",
       "      <td>Krajobraz</td>\n",
       "      <td>2752</td>\n",
       "    </tr>\n",
       "    <tr>\n",
       "      <th>4</th>\n",
       "      <td>Malarstwo Religijne</td>\n",
       "      <td>648</td>\n",
       "    </tr>\n",
       "    <tr>\n",
       "      <th>5</th>\n",
       "      <td>Malarstwo Rodzajowe</td>\n",
       "      <td>1761</td>\n",
       "    </tr>\n",
       "    <tr>\n",
       "      <th>6</th>\n",
       "      <td>Martwa Natura</td>\n",
       "      <td>563</td>\n",
       "    </tr>\n",
       "    <tr>\n",
       "      <th>7</th>\n",
       "      <td>Pejzaż Miejski</td>\n",
       "      <td>803</td>\n",
       "    </tr>\n",
       "    <tr>\n",
       "      <th>8</th>\n",
       "      <td>Portret</td>\n",
       "      <td>2386</td>\n",
       "    </tr>\n",
       "    <tr>\n",
       "      <th>9</th>\n",
       "      <td>Szkic</td>\n",
       "      <td>949</td>\n",
       "    </tr>\n",
       "  </tbody>\n",
       "</table>\n",
       "</div>"
      ],
      "text/plain": [
       "          Genre_name_x  count\n",
       "0           Abstrakcja    193\n",
       "1                  Akt    319\n",
       "2           Ilustracja     91\n",
       "3            Krajobraz   2752\n",
       "4  Malarstwo Religijne    648\n",
       "5  Malarstwo Rodzajowe   1761\n",
       "6        Martwa Natura    563\n",
       "7       Pejzaż Miejski    803\n",
       "8              Portret   2386\n",
       "9                Szkic    949"
      ]
     },
     "execution_count": 8,
     "metadata": {},
     "output_type": "execute_result"
    }
   ],
   "source": [
    "# Liczebność klas zbioru treningowego\n",
    "\n",
    "train_count = train_choice.groupby(['Genre_name_x']).size().reset_index(name='count')\n",
    "train_count"
   ]
  },
  {
   "cell_type": "code",
   "execution_count": 9,
   "id": "searching-evolution",
   "metadata": {},
   "outputs": [
    {
     "name": "stderr",
     "output_type": "stream",
     "text": [
      "<ipython-input-9-6af332d8a104>:7: FutureWarning: Support for multi-dimensional indexing (e.g. `obj[:, None]`) is deprecated and will be removed in a future version.  Convert to a numpy array before indexing instead.\n",
      "  Y = enc.fit_transform(y[:, np.newaxis]).toarray()\n"
     ]
    }
   ],
   "source": [
    "# Przygotowanie X i y zbioru treningowego\n",
    "\n",
    "X = train_set[feature_names]\n",
    "y = train_set['Genre']\n",
    "\n",
    "enc = OneHotEncoder()\n",
    "Y = enc.fit_transform(y[:, np.newaxis]).toarray()\n",
    "scaler = StandardScaler()\n",
    "X_scaled = scaler.fit_transform(X)\n",
    "\n",
    "X_train = X_scaled\n",
    "Y_train = y\n",
    "Y_trainNN = Y"
   ]
  },
  {
   "cell_type": "code",
   "execution_count": 10,
   "id": "located-anchor",
   "metadata": {},
   "outputs": [],
   "source": [
    "# Określenie które obrazy są w zbiorze testowo-walidacyjnym\n",
    "# (ze względu na małą liczebność niektórych klas, zbiory te zostały połączone)\n",
    "\n",
    "test_choice = pd.read_csv('C:/MAG/df2/test_genre_togo.csv')\n",
    "val_choice = pd.read_csv('C:/MAG/df2/val_genre_togo.csv')\n",
    "test_choice = pd.concat([test_choice,val_choice])\n",
    "\n",
    "test_set =  train_dataset_fp[train_dataset_fp['file'].isin(test_choice['file'])]\n",
    "test_set = test_set.drop(['file'], axis=1)"
   ]
  },
  {
   "cell_type": "code",
   "execution_count": 11,
   "id": "parliamentary-aside",
   "metadata": {},
   "outputs": [
    {
     "data": {
      "text/html": [
       "<div>\n",
       "<style scoped>\n",
       "    .dataframe tbody tr th:only-of-type {\n",
       "        vertical-align: middle;\n",
       "    }\n",
       "\n",
       "    .dataframe tbody tr th {\n",
       "        vertical-align: top;\n",
       "    }\n",
       "\n",
       "    .dataframe thead th {\n",
       "        text-align: right;\n",
       "    }\n",
       "</style>\n",
       "<table border=\"1\" class=\"dataframe\">\n",
       "  <thead>\n",
       "    <tr style=\"text-align: right;\">\n",
       "      <th></th>\n",
       "      <th>Genre_name_x</th>\n",
       "      <th>count</th>\n",
       "    </tr>\n",
       "  </thead>\n",
       "  <tbody>\n",
       "    <tr>\n",
       "      <th>0</th>\n",
       "      <td>Abstrakcja</td>\n",
       "      <td>77</td>\n",
       "    </tr>\n",
       "    <tr>\n",
       "      <th>1</th>\n",
       "      <td>Akt</td>\n",
       "      <td>129</td>\n",
       "    </tr>\n",
       "    <tr>\n",
       "      <th>2</th>\n",
       "      <td>Ilustracja</td>\n",
       "      <td>33</td>\n",
       "    </tr>\n",
       "    <tr>\n",
       "      <th>3</th>\n",
       "      <td>Krajobraz</td>\n",
       "      <td>1110</td>\n",
       "    </tr>\n",
       "    <tr>\n",
       "      <th>4</th>\n",
       "      <td>Malarstwo Religijne</td>\n",
       "      <td>261</td>\n",
       "    </tr>\n",
       "    <tr>\n",
       "      <th>5</th>\n",
       "      <td>Malarstwo Rodzajowe</td>\n",
       "      <td>640</td>\n",
       "    </tr>\n",
       "    <tr>\n",
       "      <th>6</th>\n",
       "      <td>Martwa Natura</td>\n",
       "      <td>228</td>\n",
       "    </tr>\n",
       "    <tr>\n",
       "      <th>7</th>\n",
       "      <td>Pejzaż Miejski</td>\n",
       "      <td>284</td>\n",
       "    </tr>\n",
       "    <tr>\n",
       "      <th>8</th>\n",
       "      <td>Portret</td>\n",
       "      <td>904</td>\n",
       "    </tr>\n",
       "    <tr>\n",
       "      <th>9</th>\n",
       "      <td>Szkic</td>\n",
       "      <td>367</td>\n",
       "    </tr>\n",
       "  </tbody>\n",
       "</table>\n",
       "</div>"
      ],
      "text/plain": [
       "          Genre_name_x  count\n",
       "0           Abstrakcja     77\n",
       "1                  Akt    129\n",
       "2           Ilustracja     33\n",
       "3            Krajobraz   1110\n",
       "4  Malarstwo Religijne    261\n",
       "5  Malarstwo Rodzajowe    640\n",
       "6        Martwa Natura    228\n",
       "7       Pejzaż Miejski    284\n",
       "8              Portret    904\n",
       "9                Szkic    367"
      ]
     },
     "execution_count": 11,
     "metadata": {},
     "output_type": "execute_result"
    }
   ],
   "source": [
    "# Liczebność klas zbioru testowo-walidacyjnego\n",
    "\n",
    "test_count = test_choice.groupby(['Genre_name_x']).size().reset_index(name='count')\n",
    "test_count"
   ]
  },
  {
   "cell_type": "code",
   "execution_count": 12,
   "id": "sensitive-alberta",
   "metadata": {},
   "outputs": [
    {
     "name": "stderr",
     "output_type": "stream",
     "text": [
      "<ipython-input-12-e6d1c1462f4d>:7: FutureWarning: Support for multi-dimensional indexing (e.g. `obj[:, None]`) is deprecated and will be removed in a future version.  Convert to a numpy array before indexing instead.\n",
      "  Y = enc.fit_transform(y[:, np.newaxis]).toarray()\n"
     ]
    }
   ],
   "source": [
    "# Przygotowanie X i y zbioru testowo-walidacyjnego\n",
    "\n",
    "X = test_set[feature_names]\n",
    "y = test_set['Genre']\n",
    "\n",
    "enc = OneHotEncoder()\n",
    "Y = enc.fit_transform(y[:, np.newaxis]).toarray()\n",
    "scaler = StandardScaler()\n",
    "X_scaled = scaler.fit_transform(X)\n",
    "\n",
    "X_test = X_scaled\n",
    "Y_test = y\n",
    "Y_testNN = Y"
   ]
  },
  {
   "cell_type": "code",
   "execution_count": 13,
   "id": "verified-catalyst",
   "metadata": {},
   "outputs": [],
   "source": [
    "# Parametry klasyfikacji\n",
    "\n",
    "n_features = X.shape[1]\n",
    "n_classes = Y.shape[1]\n",
    "test_count = Y_test.groupby(y).size().reset_index(name='count')"
   ]
  },
  {
   "cell_type": "code",
   "execution_count": 14,
   "id": "committed-ridge",
   "metadata": {},
   "outputs": [],
   "source": [
    "# Funkcja generująca raport klasyfikacji (po polsku)\n",
    "\n",
    "def cmtable(y_test_cls,test_pred):\n",
    "    report = classification_report(y_test_cls, test_pred,target_names=classes,output_dict=True)\n",
    "    raport = pd.DataFrame(report).transpose()\n",
    "    raport2 = raport.rename(columns={'Precyzja  \\n(precision)': 'precision','Czułość \\n(recall)': 'recall', 'F1': 'f1-score', 'Liczba obrazów \\n(support)': 'support'}, index={'Dokładność': 'accuracy'})\n",
    "    raport.columns = ['Precyzja  \\n(precision)','Czułość \\n(recall)','F1','Liczba obrazów \\n(support)']\n",
    "    mapping = {raport.index[len(test_count)]:'Dokładność \\n(accuracy)', raport.index[len(test_count)+1]: 'Średnia', raport.index[len(test_count)+2]:'Średnia ważona'}\n",
    "    raport = raport.rename(index=mapping)\n",
    "    raport = raport.round(2)\n",
    "\n",
    "    raport.iloc[len(test_count)][3] = raport.iloc[len(test_count)+1][3]\n",
    "\n",
    "    raport['Liczba obrazów \\n(support)'] = raport['Liczba obrazów \\n(support)'].astype(int)\n",
    "    raport = raport.astype({\"Precyzja  \\n(precision)\": str, \"Czułość \\n(recall)\": str})\n",
    "    \n",
    "    raport['Precyzja  \\n(precision)']['Dokładność \\n(accuracy)'] = None\n",
    "    raport['Czułość \\n(recall)']['Dokładność \\n(accuracy)'] = None\n",
    "    name = raport.iloc[[len(test_count),len(test_count)+1,len(test_count)+2],:] \n",
    "    return(name)"
   ]
  },
  {
   "cell_type": "code",
   "execution_count": 15,
   "id": "saving-height",
   "metadata": {},
   "outputs": [
    {
     "data": {
      "text/plain": [
       "0.7134"
      ]
     },
     "execution_count": 15,
     "metadata": {},
     "output_type": "execute_result"
    }
   ],
   "source": [
    "# Klasyfikator - Regresja Logistyczna\n",
    "\n",
    "LR = LogisticRegression(random_state=0, solver='lbfgs',max_iter=1500, multi_class='multinomial').fit(X_train, Y_train)\n",
    "LR_pred = LR.predict(X_test)\n",
    "round(LR.score(X_test,Y_test), 4)"
   ]
  },
  {
   "cell_type": "code",
   "execution_count": 16,
   "id": "administrative-demographic",
   "metadata": {},
   "outputs": [
    {
     "data": {
      "text/plain": [
       "0.7059"
      ]
     },
     "execution_count": 16,
     "metadata": {},
     "output_type": "execute_result"
    }
   ],
   "source": [
    "# Klasyfikator - Support Vector Machine (Maszyna wektorów nośnych)\n",
    "\n",
    "SVM = svm.SVC(decision_function_shape=\"ovo\").fit(X_train, Y_train)\n",
    "SVM_pred = SVM.predict(X_test)\n",
    "round(SVM.score(X_test, Y_test), 4)"
   ]
  },
  {
   "cell_type": "code",
   "execution_count": 17,
   "id": "interior-adrian",
   "metadata": {},
   "outputs": [
    {
     "data": {
      "text/plain": [
       "0.7057"
      ]
     },
     "execution_count": 17,
     "metadata": {},
     "output_type": "execute_result"
    }
   ],
   "source": [
    "# Klasyfikator - Las losowy\n",
    "\n",
    "RF = RandomForestClassifier(n_estimators=100, max_depth=100, random_state=0).fit(X_train, Y_train)\n",
    "RF_pred = RF.predict(X_test)\n",
    "round(RF.score(X_test, Y_test), 4)"
   ]
  },
  {
   "cell_type": "code",
   "execution_count": 18,
   "id": "balanced-particle",
   "metadata": {},
   "outputs": [
    {
     "data": {
      "text/plain": [
       "0.7183"
      ]
     },
     "execution_count": 18,
     "metadata": {},
     "output_type": "execute_result"
    }
   ],
   "source": [
    "# Klasyfikator - Perceptron wielowarstwowy\n",
    "\n",
    "NN = MLPClassifier(solver='lbfgs',max_iter=1500, alpha=1e-5, hidden_layer_sizes=(200, 20), random_state=1).fit(X_train, Y_train)\n",
    "NN_pred = NN.predict(X_test)\n",
    "round(NN.score(X_test, Y_test), 4)"
   ]
  },
  {
   "cell_type": "code",
   "execution_count": 19,
   "id": "commercial-advocate",
   "metadata": {},
   "outputs": [
    {
     "name": "stdout",
     "output_type": "stream",
     "text": [
      "                     precision    recall  f1-score   support\n",
      "\n",
      "         Abstrakcja       0.66      0.90      0.76        77\n",
      "     Pejzaż Miejski       0.64      0.60      0.62       284\n",
      "Malarstwo Rodzajowe       0.53      0.53      0.53       640\n",
      "         Ilustracja       0.34      0.61      0.43        33\n",
      "          Krajobraz       0.80      0.86      0.83      1110\n",
      "                Akt       0.67      0.53      0.59       129\n",
      "            Portret       0.82      0.80      0.81       904\n",
      "Malarstwo Religijne       0.60      0.51      0.55       261\n",
      "              Szkic       0.70      0.63      0.66       367\n",
      "      Martwa Natura       0.72      0.75      0.73       228\n",
      "\n",
      "           accuracy                           0.71      4033\n",
      "          macro avg       0.65      0.67      0.65      4033\n",
      "       weighted avg       0.71      0.71      0.71      4033\n",
      "\n"
     ]
    }
   ],
   "source": [
    "# Raport - Regresja Logistyczna\n",
    "\n",
    "print(classification_report(Y_test, LR_pred,target_names=classes))"
   ]
  },
  {
   "cell_type": "code",
   "execution_count": 20,
   "id": "descending-webcam",
   "metadata": {},
   "outputs": [
    {
     "name": "stdout",
     "output_type": "stream",
     "text": [
      "              precision    recall  f1-score   support\n",
      "\n",
      "           0       0.92      0.86      0.89        77\n",
      "           1       0.63      0.60      0.61       284\n",
      "           2       0.52      0.54      0.53       640\n",
      "           3       0.33      0.48      0.40        33\n",
      "           4       0.80      0.85      0.82      1110\n",
      "           5       0.67      0.52      0.59       129\n",
      "           6       0.76      0.79      0.78       904\n",
      "           7       0.63      0.49      0.55       261\n",
      "           8       0.69      0.61      0.65       367\n",
      "           9       0.72      0.73      0.73       228\n",
      "\n",
      "    accuracy                           0.71      4033\n",
      "   macro avg       0.67      0.65      0.65      4033\n",
      "weighted avg       0.70      0.71      0.70      4033\n",
      "\n"
     ]
    }
   ],
   "source": [
    "# Raport - SVM\n",
    "\n",
    "print(classification_report(Y_test, SVM_pred))"
   ]
  },
  {
   "cell_type": "code",
   "execution_count": 21,
   "id": "christian-sterling",
   "metadata": {},
   "outputs": [
    {
     "name": "stdout",
     "output_type": "stream",
     "text": [
      "                     precision    recall  f1-score   support\n",
      "\n",
      "         Abstrakcja       0.60      0.90      0.72        77\n",
      "     Pejzaż Miejski       0.60      0.60      0.60       284\n",
      "Malarstwo Rodzajowe       0.53      0.53      0.53       640\n",
      "         Ilustracja       0.34      0.61      0.44        33\n",
      "          Krajobraz       0.81      0.85      0.83      1110\n",
      "                Akt       0.67      0.53      0.59       129\n",
      "            Portret       0.81      0.79      0.80       904\n",
      "Malarstwo Religijne       0.59      0.49      0.54       261\n",
      "              Szkic       0.69      0.61      0.65       367\n",
      "      Martwa Natura       0.71      0.74      0.72       228\n",
      "\n",
      "           accuracy                           0.71      4033\n",
      "          macro avg       0.63      0.66      0.64      4033\n",
      "       weighted avg       0.71      0.71      0.70      4033\n",
      "\n"
     ]
    }
   ],
   "source": [
    "# Raport - Las Losowy\n",
    "\n",
    "print(classification_report(Y_test, RF_pred,target_names=classes))"
   ]
  },
  {
   "cell_type": "code",
   "execution_count": 22,
   "id": "sunset-motivation",
   "metadata": {},
   "outputs": [
    {
     "name": "stdout",
     "output_type": "stream",
     "text": [
      "                     precision    recall  f1-score   support\n",
      "\n",
      "         Abstrakcja       0.77      0.94      0.84        77\n",
      "     Pejzaż Miejski       0.60      0.63      0.62       284\n",
      "Malarstwo Rodzajowe       0.55      0.53      0.54       640\n",
      "         Ilustracja       0.34      0.61      0.44        33\n",
      "          Krajobraz       0.81      0.85      0.83      1110\n",
      "                Akt       0.61      0.53      0.57       129\n",
      "            Portret       0.82      0.80      0.81       904\n",
      "Malarstwo Religijne       0.61      0.55      0.58       261\n",
      "              Szkic       0.70      0.63      0.66       367\n",
      "      Martwa Natura       0.73      0.76      0.74       228\n",
      "\n",
      "           accuracy                           0.72      4033\n",
      "          macro avg       0.65      0.68      0.66      4033\n",
      "       weighted avg       0.72      0.72      0.72      4033\n",
      "\n"
     ]
    }
   ],
   "source": [
    "# Raport - Perceptron Wielowarstwowy\n",
    "\n",
    "print(classification_report(Y_test, NN_pred,target_names=classes))"
   ]
  },
  {
   "cell_type": "code",
   "execution_count": 23,
   "id": "trying-fountain",
   "metadata": {},
   "outputs": [
    {
     "name": "stderr",
     "output_type": "stream",
     "text": [
      "<ipython-input-14-50de86c8b6b8>:17: SettingWithCopyWarning: \n",
      "A value is trying to be set on a copy of a slice from a DataFrame\n",
      "\n",
      "See the caveats in the documentation: https://pandas.pydata.org/pandas-docs/stable/user_guide/indexing.html#returning-a-view-versus-a-copy\n",
      "  raport['Precyzja  \\n(precision)']['Dokładność \\n(accuracy)'] = None\n",
      "<ipython-input-14-50de86c8b6b8>:18: SettingWithCopyWarning: \n",
      "A value is trying to be set on a copy of a slice from a DataFrame\n",
      "\n",
      "See the caveats in the documentation: https://pandas.pydata.org/pandas-docs/stable/user_guide/indexing.html#returning-a-view-versus-a-copy\n",
      "  raport['Czułość \\n(recall)']['Dokładność \\n(accuracy)'] = None\n",
      "<ipython-input-14-50de86c8b6b8>:17: SettingWithCopyWarning: \n",
      "A value is trying to be set on a copy of a slice from a DataFrame\n",
      "\n",
      "See the caveats in the documentation: https://pandas.pydata.org/pandas-docs/stable/user_guide/indexing.html#returning-a-view-versus-a-copy\n",
      "  raport['Precyzja  \\n(precision)']['Dokładność \\n(accuracy)'] = None\n",
      "<ipython-input-14-50de86c8b6b8>:18: SettingWithCopyWarning: \n",
      "A value is trying to be set on a copy of a slice from a DataFrame\n",
      "\n",
      "See the caveats in the documentation: https://pandas.pydata.org/pandas-docs/stable/user_guide/indexing.html#returning-a-view-versus-a-copy\n",
      "  raport['Czułość \\n(recall)']['Dokładność \\n(accuracy)'] = None\n",
      "<ipython-input-14-50de86c8b6b8>:17: SettingWithCopyWarning: \n",
      "A value is trying to be set on a copy of a slice from a DataFrame\n",
      "\n",
      "See the caveats in the documentation: https://pandas.pydata.org/pandas-docs/stable/user_guide/indexing.html#returning-a-view-versus-a-copy\n",
      "  raport['Precyzja  \\n(precision)']['Dokładność \\n(accuracy)'] = None\n",
      "<ipython-input-14-50de86c8b6b8>:18: SettingWithCopyWarning: \n",
      "A value is trying to be set on a copy of a slice from a DataFrame\n",
      "\n",
      "See the caveats in the documentation: https://pandas.pydata.org/pandas-docs/stable/user_guide/indexing.html#returning-a-view-versus-a-copy\n",
      "  raport['Czułość \\n(recall)']['Dokładność \\n(accuracy)'] = None\n",
      "<ipython-input-14-50de86c8b6b8>:17: SettingWithCopyWarning: \n",
      "A value is trying to be set on a copy of a slice from a DataFrame\n",
      "\n",
      "See the caveats in the documentation: https://pandas.pydata.org/pandas-docs/stable/user_guide/indexing.html#returning-a-view-versus-a-copy\n",
      "  raport['Precyzja  \\n(precision)']['Dokładność \\n(accuracy)'] = None\n",
      "<ipython-input-14-50de86c8b6b8>:18: SettingWithCopyWarning: \n",
      "A value is trying to be set on a copy of a slice from a DataFrame\n",
      "\n",
      "See the caveats in the documentation: https://pandas.pydata.org/pandas-docs/stable/user_guide/indexing.html#returning-a-view-versus-a-copy\n",
      "  raport['Czułość \\n(recall)']['Dokładność \\n(accuracy)'] = None\n"
     ]
    }
   ],
   "source": [
    "# Raporty razem (po polsku do pracy)\n",
    "regresja = cmtable(Y_test, LR_pred)\n",
    "svm = cmtable(Y_test, SVM_pred)\n",
    "las = cmtable(Y_test, RF_pred)\n",
    "perceptron = cmtable(Y_test, NN_pred)\n",
    "\n",
    "klasyfikatory = pd.concat([regresja,svm,las,perceptron])\n",
    "klasyfikatory.to_excel('C:/MAG/excelki sieci wyzszych/gatunku/klasyfikatory.xlsx')"
   ]
  },
  {
   "cell_type": "code",
   "execution_count": 24,
   "id": "prescription-suicide",
   "metadata": {},
   "outputs": [
    {
     "data": {
      "text/plain": [
       "['C:/MAG/Gatunek_wyzszy/LR.joblib']"
      ]
     },
     "execution_count": 24,
     "metadata": {},
     "output_type": "execute_result"
    }
   ],
   "source": [
    "# Zapisanie najlepszego klasyfikatora\n",
    "\n",
    "joblib.dump(LR,'C:/MAG/Gatunek_wyzszy/LR.joblib')"
   ]
  },
  {
   "cell_type": "code",
   "execution_count": 25,
   "id": "abandoned-recovery",
   "metadata": {},
   "outputs": [
    {
     "name": "stdout",
     "output_type": "stream",
     "text": [
      "Model: \"model_1\"\n",
      "_________________________________________________________________\n",
      "Layer (type)                 Output Shape              Param #   \n",
      "=================================================================\n",
      "dense (Dense)                (None, 8)                 800       \n",
      "_________________________________________________________________\n",
      "dense_1 (Dense)              (None, 10)                90        \n",
      "=================================================================\n",
      "Total params: 890\n",
      "Trainable params: 890\n",
      "Non-trainable params: 0\n",
      "_________________________________________________________________\n",
      "Model: \"model_2\"\n",
      "_________________________________________________________________\n",
      "Layer (type)                 Output Shape              Param #   \n",
      "=================================================================\n",
      "dense_2 (Dense)              (None, 8)                 800       \n",
      "_________________________________________________________________\n",
      "dense_3 (Dense)              (None, 8)                 72        \n",
      "_________________________________________________________________\n",
      "dense_4 (Dense)              (None, 10)                90        \n",
      "=================================================================\n",
      "Total params: 962\n",
      "Trainable params: 962\n",
      "Non-trainable params: 0\n",
      "_________________________________________________________________\n",
      "Model: \"model_3\"\n",
      "_________________________________________________________________\n",
      "Layer (type)                 Output Shape              Param #   \n",
      "=================================================================\n",
      "dense_5 (Dense)              (None, 8)                 800       \n",
      "_________________________________________________________________\n",
      "dense_6 (Dense)              (None, 8)                 72        \n",
      "_________________________________________________________________\n",
      "dense_7 (Dense)              (None, 8)                 72        \n",
      "_________________________________________________________________\n",
      "dense_8 (Dense)              (None, 10)                90        \n",
      "=================================================================\n",
      "Total params: 1,034\n",
      "Trainable params: 1,034\n",
      "Non-trainable params: 0\n",
      "_________________________________________________________________\n"
     ]
    }
   ],
   "source": [
    "# Tworzenie modeli sieci neuronowych\n",
    "\n",
    "warnings.simplefilter(action='ignore', category=FutureWarning)\n",
    "warnings.simplefilter(action='ignore', category=DeprecationWarning)\n",
    "\n",
    "def create_custom_model(input_dim, output_dim, nodes, n=1, name='model'):\n",
    "    def create_model():\n",
    "        model = Sequential(name=name)\n",
    "        for i in range(n):\n",
    "            model.add(Dense(nodes, input_dim=input_dim, activation='relu'))\n",
    "        model.add(Dense(output_dim, activation='softmax'))\n",
    "\n",
    "        model.compile(loss='categorical_crossentropy', \n",
    "                      optimizer='adam', \n",
    "                      metrics=['accuracy'])\n",
    "        return model\n",
    "    return create_model\n",
    "\n",
    "models = [create_custom_model(n_features, n_classes, 8, i, 'model_{}'.format(i)) \n",
    "          for i in range(1, 4)]\n",
    "\n",
    "for create_model in models:\n",
    "    create_model().summary()"
   ]
  },
  {
   "cell_type": "code",
   "execution_count": 26,
   "id": "continental-davis",
   "metadata": {},
   "outputs": [],
   "source": [
    "# Tensorboard\n",
    "%load_ext tensorboard\n",
    "logdir = \"logs/siec_wyzsza/\" + datetime.now().strftime(\"%Y%m%d-%H%M%S\")\n",
    "file_writer = tf.summary.create_file_writer(logdir)"
   ]
  },
  {
   "cell_type": "code",
   "execution_count": 27,
   "id": "exterior-disco",
   "metadata": {},
   "outputs": [
    {
     "name": "stdout",
     "output_type": "stream",
     "text": [
      "Model name: model_1\n",
      "Test loss: 6.397458553314209\n",
      "Test accuracy: 0.7061740756034851\n",
      "                     precision    recall  f1-score   support\n",
      "\n",
      "         Abstrakcja       0.58      0.88      0.70        77\n",
      "     Pejzaż Miejski       0.63      0.61      0.62       284\n",
      "Malarstwo Rodzajowe       0.53      0.52      0.52       640\n",
      "         Ilustracja       0.32      0.61      0.42        33\n",
      "          Krajobraz       0.81      0.85      0.83      1110\n",
      "                Akt       0.58      0.54      0.56       129\n",
      "            Portret       0.82      0.79      0.81       904\n",
      "Malarstwo Religijne       0.61      0.51      0.55       261\n",
      "              Szkic       0.69      0.62      0.65       367\n",
      "      Martwa Natura       0.70      0.75      0.72       228\n",
      "\n",
      "           accuracy                           0.71      4033\n",
      "          macro avg       0.63      0.67      0.64      4033\n",
      "       weighted avg       0.71      0.71      0.71      4033\n",
      "\n"
     ]
    },
    {
     "name": "stderr",
     "output_type": "stream",
     "text": [
      "<ipython-input-14-50de86c8b6b8>:17: SettingWithCopyWarning: \n",
      "A value is trying to be set on a copy of a slice from a DataFrame\n",
      "\n",
      "See the caveats in the documentation: https://pandas.pydata.org/pandas-docs/stable/user_guide/indexing.html#returning-a-view-versus-a-copy\n",
      "  raport['Precyzja  \\n(precision)']['Dokładność \\n(accuracy)'] = None\n",
      "<ipython-input-14-50de86c8b6b8>:18: SettingWithCopyWarning: \n",
      "A value is trying to be set on a copy of a slice from a DataFrame\n",
      "\n",
      "See the caveats in the documentation: https://pandas.pydata.org/pandas-docs/stable/user_guide/indexing.html#returning-a-view-versus-a-copy\n",
      "  raport['Czułość \\n(recall)']['Dokładność \\n(accuracy)'] = None\n"
     ]
    },
    {
     "name": "stdout",
     "output_type": "stream",
     "text": [
      "Model name: model_2\n",
      "Test loss: 10.296419143676758\n",
      "Test accuracy: 0.7004711031913757\n",
      "                     precision    recall  f1-score   support\n",
      "\n",
      "         Abstrakcja       0.57      0.88      0.69        77\n",
      "     Pejzaż Miejski       0.60      0.60      0.60       284\n",
      "Malarstwo Rodzajowe       0.52      0.52      0.52       640\n",
      "         Ilustracja       0.24      0.58      0.34        33\n",
      "          Krajobraz       0.81      0.85      0.83      1110\n",
      "                Akt       0.66      0.53      0.59       129\n",
      "            Portret       0.83      0.78      0.80       904\n",
      "Malarstwo Religijne       0.56      0.51      0.53       261\n",
      "              Szkic       0.69      0.62      0.65       367\n",
      "      Martwa Natura       0.70      0.75      0.73       228\n",
      "\n",
      "           accuracy                           0.70      4033\n",
      "          macro avg       0.62      0.66      0.63      4033\n",
      "       weighted avg       0.71      0.70      0.70      4033\n",
      "\n"
     ]
    },
    {
     "name": "stderr",
     "output_type": "stream",
     "text": [
      "<ipython-input-14-50de86c8b6b8>:17: SettingWithCopyWarning: \n",
      "A value is trying to be set on a copy of a slice from a DataFrame\n",
      "\n",
      "See the caveats in the documentation: https://pandas.pydata.org/pandas-docs/stable/user_guide/indexing.html#returning-a-view-versus-a-copy\n",
      "  raport['Precyzja  \\n(precision)']['Dokładność \\n(accuracy)'] = None\n",
      "<ipython-input-14-50de86c8b6b8>:18: SettingWithCopyWarning: \n",
      "A value is trying to be set on a copy of a slice from a DataFrame\n",
      "\n",
      "See the caveats in the documentation: https://pandas.pydata.org/pandas-docs/stable/user_guide/indexing.html#returning-a-view-versus-a-copy\n",
      "  raport['Czułość \\n(recall)']['Dokładność \\n(accuracy)'] = None\n"
     ]
    },
    {
     "name": "stdout",
     "output_type": "stream",
     "text": [
      "Model name: model_3\n",
      "Test loss: 11.741559028625488\n",
      "Test accuracy: 0.698983371257782\n",
      "                     precision    recall  f1-score   support\n",
      "\n",
      "         Abstrakcja       0.57      0.90      0.69        77\n",
      "     Pejzaż Miejski       0.61      0.59      0.60       284\n",
      "Malarstwo Rodzajowe       0.53      0.50      0.51       640\n",
      "         Ilustracja       0.22      0.58      0.32        33\n",
      "          Krajobraz       0.80      0.85      0.83      1110\n",
      "                Akt       0.52      0.54      0.53       129\n",
      "            Portret       0.83      0.78      0.80       904\n",
      "Malarstwo Religijne       0.59      0.50      0.54       261\n",
      "              Szkic       0.70      0.61      0.65       367\n",
      "      Martwa Natura       0.71      0.75      0.73       228\n",
      "\n",
      "           accuracy                           0.70      4033\n",
      "          macro avg       0.61      0.66      0.62      4033\n",
      "       weighted avg       0.70      0.70      0.70      4033\n",
      "\n"
     ]
    },
    {
     "name": "stderr",
     "output_type": "stream",
     "text": [
      "<ipython-input-14-50de86c8b6b8>:17: SettingWithCopyWarning: \n",
      "A value is trying to be set on a copy of a slice from a DataFrame\n",
      "\n",
      "See the caveats in the documentation: https://pandas.pydata.org/pandas-docs/stable/user_guide/indexing.html#returning-a-view-versus-a-copy\n",
      "  raport['Precyzja  \\n(precision)']['Dokładność \\n(accuracy)'] = None\n",
      "<ipython-input-14-50de86c8b6b8>:18: SettingWithCopyWarning: \n",
      "A value is trying to be set on a copy of a slice from a DataFrame\n",
      "\n",
      "See the caveats in the documentation: https://pandas.pydata.org/pandas-docs/stable/user_guide/indexing.html#returning-a-view-versus-a-copy\n",
      "  raport['Czułość \\n(recall)']['Dokładność \\n(accuracy)'] = None\n"
     ]
    }
   ],
   "source": [
    "# Szkolenie sieci\n",
    "\n",
    "history_dict = {}\n",
    "\n",
    "tensorboard_callback = tf.keras.callbacks.TensorBoard(log_dir=logdir)\n",
    "i=0\n",
    "\n",
    "for create_model in models:\n",
    "    model = create_model()\n",
    "    print('Model name:', model.name)\n",
    "    \n",
    "    logdir = \"logs/siec_wyzsza/\" + datetime.now().strftime(\"%Y%m%d-%H%M%S\")\n",
    "    file_writer = tf.summary.create_file_writer(logdir)\n",
    "    tensorboard_callback = tf.keras.callbacks.TensorBoard(log_dir=logdir)\n",
    "\n",
    "    history_callback = model.fit(X_train, Y_trainNN,\n",
    "                                 batch_size=8,\n",
    "                                 epochs=25,\n",
    "                                 verbose=0,\n",
    "                                 validation_data=(X_test, Y_testNN),\n",
    "                                 callbacks=[tensorboard_callback])\n",
    "    score = model.evaluate(X_test, Y_testNN, verbose=0)\n",
    "    print('Test loss:', score[0])\n",
    "    print('Test accuracy:', score[1])\n",
    "    \n",
    "    test_pred_raw = model.predict(X_test)\n",
    "    test_pred = np.argmax(test_pred_raw, axis=1)\n",
    "    y_test_cls = np.argmax(Y_testNN, axis=1)\n",
    "    print(classification_report(y_test_cls, test_pred,target_names=classes))\n",
    "    nazwa = model.name\n",
    "    cmtable(y_test_cls, test_pred).to_excel('C:/MAG/excelki sieci wyzszych/gatunku/'+nazwa+'.xlsx')\n",
    "    model.save('C:/MAG/Gatunek_wyzszy/'+nazwa+'.hdf5') \n",
    "    history_dict[model.name] = [history_callback, model]"
   ]
  },
  {
   "cell_type": "code",
   "execution_count": 28,
   "id": "relevant-shuttle",
   "metadata": {},
   "outputs": [
    {
     "data": {
      "image/png": "[encoded data removed]",
      "text/plain": [
       "<IPython.core.display.Image object>"
      ]
     },
     "execution_count": 28,
     "metadata": {},
     "output_type": "execute_result"
    }
   ],
   "source": [
    "# Wyplotowanie ostatniego z modeli\n",
    "\n",
    "tf.keras.utils.plot_model(model, show_shapes=True, rankdir=\"LR\")"
   ]
  }
 ],
 "metadata": {
  "kernelspec": {
   "display_name": "Python 3",
   "language": "python",
   "name": "python3"
  },
  "language_info": {
   "codemirror_mode": {
    "name": "ipython",
    "version": 3
   },
   "file_extension": ".py",
   "mimetype": "text/x-python",
   "name": "python",
   "nbconvert_exporter": "python",
   "pygments_lexer": "ipython3",
   "version": "3.8.8"
  }
 },
 "nbformat": 4,
 "nbformat_minor": 5
}
