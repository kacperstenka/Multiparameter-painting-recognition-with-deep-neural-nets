{
 "cells": [
  {
   "cell_type": "code",
   "execution_count": 1,
   "id": "interstate-toyota",
   "metadata": {},
   "outputs": [
    {
     "name": "stdout",
     "output_type": "stream",
     "text": [
      "Populating the interactive namespace from numpy and matplotlib\n"
     ]
    }
   ],
   "source": [
    "# Wczytanie bibliotek\n",
    "\n",
    "%pylab inline\n",
    "import pandas as pd\n",
    "import os\n",
    "import keras\n",
    "import joblib\n",
    "from tensorflow.keras.preprocessing.image import ImageDataGenerator\n",
    "from sklearn.preprocessing import StandardScaler\n",
    "from sklearn.model_selection import train_test_split"
   ]
  },
  {
   "cell_type": "code",
   "execution_count": 2,
   "id": "cooperative-birthday",
   "metadata": {},
   "outputs": [
    {
     "name": "stderr",
     "output_type": "stream",
     "text": [
      "<ipython-input-2-d22f369446fe>:23: SettingWithCopyWarning: \n",
      "A value is trying to be set on a copy of a slice from a DataFrame\n",
      "\n",
      "See the caveats in the documentation: https://pandas.pydata.org/pandas-docs/stable/user_guide/indexing.html#returning-a-view-versus-a-copy\n",
      "  df['century'][i]=19\n",
      "<ipython-input-2-d22f369446fe>:27: SettingWithCopyWarning: \n",
      "A value is trying to be set on a copy of a slice from a DataFrame\n",
      "\n",
      "See the caveats in the documentation: https://pandas.pydata.org/pandas-docs/stable/user_guide/indexing.html#returning-a-view-versus-a-copy\n",
      "  df['century'][i]=17\n",
      "<ipython-input-2-d22f369446fe>:35: SettingWithCopyWarning: \n",
      "A value is trying to be set on a copy of a slice from a DataFrame\n",
      "\n",
      "See the caveats in the documentation: https://pandas.pydata.org/pandas-docs/stable/user_guide/indexing.html#returning-a-view-versus-a-copy\n",
      "  df['century'][i]=-1\n",
      "<ipython-input-2-d22f369446fe>:21: SettingWithCopyWarning: \n",
      "A value is trying to be set on a copy of a slice from a DataFrame\n",
      "\n",
      "See the caveats in the documentation: https://pandas.pydata.org/pandas-docs/stable/user_guide/indexing.html#returning-a-view-versus-a-copy\n",
      "  df['century'][i]=20\n",
      "<ipython-input-2-d22f369446fe>:29: SettingWithCopyWarning: \n",
      "A value is trying to be set on a copy of a slice from a DataFrame\n",
      "\n",
      "See the caveats in the documentation: https://pandas.pydata.org/pandas-docs/stable/user_guide/indexing.html#returning-a-view-versus-a-copy\n",
      "  df['century'][i]=16\n",
      "<ipython-input-2-d22f369446fe>:33: SettingWithCopyWarning: \n",
      "A value is trying to be set on a copy of a slice from a DataFrame\n",
      "\n",
      "See the caveats in the documentation: https://pandas.pydata.org/pandas-docs/stable/user_guide/indexing.html#returning-a-view-versus-a-copy\n",
      "  df['century'][i]=-1\n",
      "<ipython-input-2-d22f369446fe>:31: SettingWithCopyWarning: \n",
      "A value is trying to be set on a copy of a slice from a DataFrame\n",
      "\n",
      "See the caveats in the documentation: https://pandas.pydata.org/pandas-docs/stable/user_guide/indexing.html#returning-a-view-versus-a-copy\n",
      "  df['century'][i]=15\n",
      "<ipython-input-2-d22f369446fe>:25: SettingWithCopyWarning: \n",
      "A value is trying to be set on a copy of a slice from a DataFrame\n",
      "\n",
      "See the caveats in the documentation: https://pandas.pydata.org/pandas-docs/stable/user_guide/indexing.html#returning-a-view-versus-a-copy\n",
      "  df['century'][i]=18\n"
     ]
    }
   ],
   "source": [
    "# Baza danych\n",
    "\n",
    "images_dir = \"C:/wikiart/\"\n",
    "df = pd.read_csv('C:/wikiart/wclasses.csv')\n",
    "training_imgs = list(images_dir + df['file'])\n",
    "df['filepath'] = training_imgs\n",
    "\n",
    "df['century']=df['artist']\n",
    "\n",
    "for i in df.index:\n",
    "  filename = os.path.basename(df['file'][i])\n",
    "  parts = filename.split('-')\n",
    "  yearonly = parts[len(parts)-1].split('.')[0]\n",
    "  try:\n",
    "    yearonly=int(yearonly) \n",
    "  except ValueError:\n",
    "    yearonly=None\n",
    "\n",
    "  try:\n",
    "    if 1900<yearonly<2001:\n",
    "      df['century'][i]=20\n",
    "    elif 1800<yearonly<1901:\n",
    "      df['century'][i]=19\n",
    "    elif 1700<yearonly<1801:\n",
    "      df['century'][i]=18\n",
    "    elif 1600<yearonly<1701:\n",
    "      df['century'][i]=17\n",
    "    elif 1500<yearonly<1601:\n",
    "      df['century'][i]=16\n",
    "    elif 1400<yearonly<1501:\n",
    "      df['century'][i]=15\n",
    "    else:\n",
    "      df['century'][i]=-1\n",
    "  except TypeError:\n",
    "    df['century'][i]=-1\n",
    "    \n",
    "df['Artist_name'] = df.file.str.split(\"/\",expand=True)[1]\n",
    "df['Artist_name'] = df.Artist_name.str.split(\"_\",expand=True)[0]\n",
    "\n",
    "style_number = list(range(27))\n",
    "style_number = [x+140 for x in style_number]\n",
    "\n",
    "genre_number = list(range(11))\n",
    "genre_number = [x+129 for x in genre_number]\n",
    "\n",
    "century_number1=[-1]\n",
    "century_number = list(range(6))\n",
    "century_number = [x+15 for x in century_number]\n",
    "century_number = century_number1 + century_number\n",
    "\n",
    "columns_style = ['Ekspresjonizm Abstrakcyjny', 'Taszyzm', 'Kubizm Analityczny', 'Art Noveau', 'Barok', 'Malarstwo Barwnych Płaszczyzn', 'Realizm Współczesny', 'Kubizm', 'Wczesny Renesans', 'Ekspresjonizm', 'Fowizm', 'Wysoki Renesans', 'Impresjonizm', 'Późny Renesans', 'Minimalizm', 'Prymitywizm', 'Nowy Realizm', 'Północny Renesans', 'Puentylizm', 'Pop Art', 'Postimpresjonizm', 'Realizm', 'Rokoko', 'Romantyzm', 'Symbolizm', 'Kubizm Syntetyczny', 'Ukiyo-e']\n",
    "columns_genre = ['Abstrakcja', 'Pejzaż Miejski', 'Malarstwo Rodzajowe', 'Ilustracja', 'Krajobraz', 'Akt', 'Portret', 'Malarstwo Religijne', 'Szkic', 'Martwa Natura','Nieznany Gatunek']\n",
    "columns_century = ['Nieznane Stulecie','XV', 'XVI', 'XVII', 'XVIII', 'XIX', 'XX']\n",
    "\n",
    "style_dict = dict(zip(style_number, columns_style))\n",
    "genre_dict = dict(zip(genre_number, columns_genre))\n",
    "century_dict = dict(zip(century_number, columns_century))\n",
    "\n",
    "df['Artist_name'] = df['Artist_name'].str.replace('-', ' ').values\n",
    "df['Artist_name'] = df.Artist_name.str.title()\n",
    "df['Style_name'] = df['style'].map(style_dict)\n",
    "df['Genre_name'] = df['genre'].map(genre_dict)\n",
    "df['Century_name'] = df['century'].map(century_dict)\n",
    "\n"
   ]
  },
  {
   "cell_type": "code",
   "execution_count": 3,
   "id": "developmental-appearance",
   "metadata": {},
   "outputs": [],
   "source": [
    "# Zbiory testowe i walidacyjne\n",
    "\n",
    "# Identyfikacja wieku\n",
    "\n",
    "df_century1 = df[df.century != -1]\n",
    "train1, test_century1 = train_test_split(df_century1, test_size = 0.15, random_state = 21, stratify = df_century1['century'])\n",
    "train, val_century1 = train_test_split(train1, test_size = 0.177, random_state = 21, stratify = train1['century'])\n",
    "\n",
    "# Identyfikacja stylu\n",
    "\n",
    "train1, test_style1 = train_test_split(df, test_size = 0.15, random_state = 21, stratify = df['style'])\n",
    "train, val_style1 = train_test_split(train1, test_size = 0.15, random_state = 21, stratify = train1['style'])\n",
    "\n",
    "# Identyfikacja artysty\n",
    "\n",
    "training_set_count = df.groupby(['Artist_name']).size().reset_index(name='count')\n",
    "training_set_count = training_set_count[training_set_count['count'] > 250]\n",
    "training_set_count = training_set_count[training_set_count['count'] != 350]\n",
    "\n",
    "df_artist1 =  df[df['Artist_name'].isin(training_set_count['Artist_name'])]\n",
    "train1, test_artist1 = train_test_split(df_artist1, test_size = 0.15, random_state = 21, stratify = df_artist1['Artist_name'])\n",
    "train, val_artist1 = train_test_split(train1, test_size = 0.177, random_state = 21, stratify = train1['Artist_name'])\n",
    "\n",
    "# Identyfikacja gatunku\n",
    "\n",
    "df_genre1 = df[df.genre !=139]\n",
    "train1, test_genre1 = train_test_split(df_genre1, test_size = 0.15, random_state = 21, stratify = df_genre1['genre'])\n",
    "train, val_genre1 = train_test_split(train1, test_size = 0.15, random_state = 21, stratify = train1['genre'])"
   ]
  },
  {
   "cell_type": "code",
   "execution_count": 4,
   "id": "supreme-relations",
   "metadata": {},
   "outputs": [],
   "source": [
    "# Mała baza danych\n",
    "\n",
    "df_mini =  df[df['Artist_name'].isin(training_set_count['Artist_name'])]\n",
    "df_mini = df_mini[df_mini.genre !=139]\n",
    "df_mini = df_mini[df_mini.century != -1]\n",
    "df_mini = df_mini.reset_index()\n",
    "df_mini.to_csv('C:/MAG/df2/df_mini.csv')"
   ]
  },
  {
   "cell_type": "code",
   "execution_count": 5,
   "id": "unique-termination",
   "metadata": {},
   "outputs": [],
   "source": [
    "# Złączenie zbiorów testowych i walidacyjnych w celu zapewnienia ciągłości \n",
    "# (dzięki tej operacji, te same obrazy zbioru testowego na poziomie niższym będą w zbiorze testowym na poziomie wyższym)\n",
    "\n",
    "test_artist_togo = pd.merge(test_artist1, df_mini, how='inner', on=['file'])\n",
    "test_artist_togo.to_csv('C:/MAG/df2/test_artist_togo.csv')"
   ]
  },
  {
   "cell_type": "code",
   "execution_count": 6,
   "id": "eleven-spokesman",
   "metadata": {},
   "outputs": [],
   "source": [
    "val_artist_togo = pd.merge(val_artist1, df_mini, how='inner', on=['file'])\n",
    "val_artist_togo.to_csv('C:/MAG/df2/val_artist_togo.csv')"
   ]
  },
  {
   "cell_type": "code",
   "execution_count": 7,
   "id": "photographic-venice",
   "metadata": {},
   "outputs": [],
   "source": [
    "test_genre_togo = pd.merge(test_genre1, df_mini, how='inner', on=['file'])\n",
    "test_genre_togo.to_csv('C:/MAG/df2/test_genre_togo.csv')"
   ]
  },
  {
   "cell_type": "code",
   "execution_count": 8,
   "id": "supposed-style",
   "metadata": {},
   "outputs": [],
   "source": [
    "val_genre_togo = pd.merge(val_genre1, df_mini, how='inner', on=['file'])\n",
    "val_genre_togo.to_csv('C:/MAG/df2/val_genre_togo.csv')"
   ]
  },
  {
   "cell_type": "code",
   "execution_count": 9,
   "id": "central-cancellation",
   "metadata": {},
   "outputs": [],
   "source": [
    "test_style_togo = pd.merge(test_style1, df_mini, how='inner', on=['file'])\n",
    "test_style_togo.to_csv('C:/MAG/df2/test_style_togo.csv')"
   ]
  },
  {
   "cell_type": "code",
   "execution_count": 10,
   "id": "ordinary-single",
   "metadata": {},
   "outputs": [],
   "source": [
    "val_style_togo = pd.merge(val_style1, df_mini, how='inner', on=['file'])\n",
    "val_style_togo.to_csv('C:/MAG/df2/val_style_togo.csv')"
   ]
  },
  {
   "cell_type": "code",
   "execution_count": 11,
   "id": "corrected-saturn",
   "metadata": {},
   "outputs": [],
   "source": [
    "test_century_togo = pd.merge(test_century1, df_mini, how='inner', on=['file'])\n",
    "test_century_togo.to_csv('C:/MAG/df2/test_century_togo.csv')"
   ]
  },
  {
   "cell_type": "code",
   "execution_count": 12,
   "id": "parental-thompson",
   "metadata": {},
   "outputs": [],
   "source": [
    "val_century_togo = pd.merge(val_century1, df_mini, how='inner', on=['file'])\n",
    "val_century_togo.to_csv('C:/MAG/df2/val_century_togo.csv')"
   ]
  }
 ],
 "metadata": {
  "kernelspec": {
   "display_name": "Python 3",
   "language": "python",
   "name": "python3"
  },
  "language_info": {
   "codemirror_mode": {
    "name": "ipython",
    "version": 3
   },
   "file_extension": ".py",
   "mimetype": "text/x-python",
   "name": "python",
   "nbconvert_exporter": "python",
   "pygments_lexer": "ipython3",
   "version": "3.8.8"
  }
 },
 "nbformat": 4,
 "nbformat_minor": 5
}
